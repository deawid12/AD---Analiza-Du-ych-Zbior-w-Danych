{
 "cells": [
  {
   "metadata": {},
   "cell_type": "markdown",
   "source": [
    "Zadania\n",
    "Zadanie 1\n",
    "Wczytaj plik zamowienia.csv do ramki pandas, a następnie w kilku miejscach (ale nie w pierwszych 10 wierszach) wstaw wartość NaN, aby zasymulować wartości brakujące. Zapisz ramkę do pliku zamowienia_missing.csv. Wczytaj teraz plik do ramki Dask i sprawdź jakie typy danych zostały przydzielone. Czy zgadzają się z typami z oryginalnego pliku? Wykonaj dowolne obliczenia na całej ramce Dask, aby wymusić wywołanie .compute(). Czy pojawił się błąd dotyczący niespójności typów danych? Spróbuj uruchomić kilka razy funkcję wczytywania danych do ramki Dask dataframe z różnymi wartościami parametru samples. Dokumentacja dask.dataframe.read_csv(): https://docs.dask.org/en/stable/generated/dask.dataframe.read_csv.html\n",
    "\n",
    "Zadanie 2\n",
    "Ze strony https://docs.dask.org/en/stable/dashboard.html skonfiguruj plugin Dask dashboard dla Jupyter Lab i przetestuj jego działanie.\n",
    "\n",
    "Zadanie 3\n",
    "Skonfiguruj lokalny klaster (Client) tak, aby nie zaalokował wszystkich zasobów (np. zostaw 8 GB RAM dla systemu hosta + 2 rdzenie). Pobierz dane udostępnione na poprzednich zajęciach (https://huggingface.co/datasets/vargr/private_instagram/tree/refs%2Fconvert%2Fparquet/default/train) i załaduj do ramki Dask tyle części ile zdołasz w formie bez optymalizacji. Zmierz czas tej operacji.\n",
    "\n",
    "Zadanie 4\n",
    "Wykonaj kilka operacji na klastrze lokalnym z danymi z zadania 3:\n",
    "\n",
    "wyświetl top 10 użytkowników z najwyższą liczbą like'ów,\n",
    "pobierz dane tylko za pierwsze półrocze 2019 roku. Każdorazowo zmierz i wyświetl czas operacji i obserwuj dashboard.\n",
    "\n",
    "Zadanie 5\n",
    "Wczytaj te same dane do ramki Dask co w zadaniu 3, ale podaj typy danych, które zostały wybrane w procesie optymalizacji wykonanej w zadaniach z lab 01. Porównaj czas ładowania z zadaniem 3. Wykonaj również te same operacje co w zadaniu 4 i porównaj czas. Śledź wykonanie zadań patrząć na graf wywołań.\n",
    "\n",
    "Zadanie 6\n",
    "Podziel tablicę darr z przykładów na inne liczby chunków (eksperymentuj) i wykonaj te same obliczenie (średnia). Dla każdej liczby chunków wypisz czas obliczeń (wykonaj to samo obliczenie minimum 10 razy, aby nieco uwiarygodnić wyniki i uśrednij) i porównaj wyniki. Napisz wniosek o wynikach swoich eksperymentów i automatycznego podziału na chunki. Czy udało Ci się osiągnąć lepszą wydajność niż przy domyślnych ustawieniach?"
   ],
   "id": "807515c7dfb210e1"
  },
  {
   "cell_type": "code",
   "id": "initial_id",
   "metadata": {
    "collapsed": true,
    "ExecuteTime": {
     "end_time": "2024-10-23T11:54:21.816222Z",
     "start_time": "2024-10-23T11:54:20.261344Z"
    }
   },
   "source": [
    "import pandas as pd\n",
    "import numpy as np\n",
    "import dask.dataframe as dd\n",
    "import dask.array as da\n",
    "from dask.distributed import Client\n",
    "import time"
   ],
   "outputs": [],
   "execution_count": 1
  },
  {
   "metadata": {
    "ExecuteTime": {
     "end_time": "2024-10-23T11:54:21.838397Z",
     "start_time": "2024-10-23T11:54:21.822166Z"
    }
   },
   "cell_type": "code",
   "source": [
    "df = pd.read_csv('zamowienia.csv')\n",
    "np.random.seed(42)\n",
    "num_nan = 5\n",
    "cols = df.columns.tolist()\n",
    "\n",
    "for _ in range(num_nan):\n",
    "    row_idx = np.random.randint(10, len(df))\n",
    "    col_idx = np.random.choice(cols) \n",
    "    df.at[row_idx, col_idx] = np.nan \n",
    "    \n",
    "df.to_csv('zamowienia_missing.csv', index=False)\n",
    "print(\"Plik zamowienia_missing.csv został zapisany \")"
   ],
   "id": "151dd5ba308b3293",
   "outputs": [
    {
     "name": "stdout",
     "output_type": "stream",
     "text": [
      "Plik zamowienia_missing.csv został zapisany \n"
     ]
    }
   ],
   "execution_count": 2
  },
  {
   "metadata": {
    "ExecuteTime": {
     "end_time": "2024-10-23T11:54:21.964197Z",
     "start_time": "2024-10-23T11:54:21.920098Z"
    }
   },
   "cell_type": "code",
   "source": [
    "dask_df = dd.read_csv('zamowienia_missing.csv')\n",
    "print(\"Typy danych w ramce Dask:\")\n",
    "print(dask_df.dtypes)\n",
    "\n",
    "original_df = pd.read_csv('zamowienia.csv')\n",
    "print(\"\\nTypy danych w oryginalnym pliku pandas:\")\n",
    "print(original_df.dtypes)\n"
   ],
   "id": "8db5542539dc10a4",
   "outputs": [
    {
     "name": "stdout",
     "output_type": "stream",
     "text": [
      "Typy danych w ramce Dask:\n",
      "Kraj;Sprzedawca;Data zamowienia;idZamowienia;Utarg    string[pyarrow]\n",
      "dtype: object\n",
      "\n",
      "Typy danych w oryginalnym pliku pandas:\n",
      "Kraj;Sprzedawca;Data zamowienia;idZamowienia;Utarg    object\n",
      "dtype: object\n"
     ]
    }
   ],
   "execution_count": 3
  },
  {
   "metadata": {
    "ExecuteTime": {
     "end_time": "2024-10-23T11:54:22.002405Z",
     "start_time": "2024-10-23T11:54:21.981181Z"
    }
   },
   "cell_type": "code",
   "source": [
    "numeric_columns = dask_df.select_dtypes(include=['number'])\n",
    "sum_result = numeric_columns.sum().compute()\n",
    "print(\"\\nWynik obliczeń (sumowanie wartości dla kolumn numerycznych):\")\n",
    "print(sum_result)"
   ],
   "id": "e2a8516c703c4c7f",
   "outputs": [
    {
     "name": "stdout",
     "output_type": "stream",
     "text": [
      "\n",
      "Wynik obliczeń (sumowanie wartości dla kolumn numerycznych):\n",
      "Series([], dtype: float64)\n"
     ]
    }
   ],
   "execution_count": 4
  },
  {
   "metadata": {
    "ExecuteTime": {
     "end_time": "2024-10-23T11:54:22.047074Z",
     "start_time": "2024-10-23T11:54:22.022380Z"
    }
   },
   "cell_type": "code",
   "source": [
    "for sample_size in [100_000, 1_000_000, 10_000_000]:\n",
    "    print(f\"\\nWczytywanie danych z sample={sample_size} bajtów:\")\n",
    "    dask_df_sampled = dd.read_csv('zamowienia_missing.csv', sample=sample_size)\n",
    "    print(dask_df_sampled.dtypes)"
   ],
   "id": "a1d9d61499d1ea51",
   "outputs": [
    {
     "name": "stdout",
     "output_type": "stream",
     "text": [
      "\n",
      "Wczytywanie danych z sample=100000 bajtów:\n",
      "Kraj;Sprzedawca;Data zamowienia;idZamowienia;Utarg    string[pyarrow]\n",
      "dtype: object\n",
      "\n",
      "Wczytywanie danych z sample=1000000 bajtów:\n",
      "Kraj;Sprzedawca;Data zamowienia;idZamowienia;Utarg    string[pyarrow]\n",
      "dtype: object\n",
      "\n",
      "Wczytywanie danych z sample=10000000 bajtów:\n",
      "Kraj;Sprzedawca;Data zamowienia;idZamowienia;Utarg    string[pyarrow]\n",
      "dtype: object\n"
     ]
    }
   ],
   "execution_count": 5
  },
  {
   "metadata": {},
   "cell_type": "markdown",
   "source": "Zadanie 2",
   "id": "d7ff950381abba7b"
  },
  {
   "metadata": {
    "ExecuteTime": {
     "end_time": "2024-10-23T11:54:22.071475Z",
     "start_time": "2024-10-23T11:54:22.068043Z"
    }
   },
   "cell_type": "code",
   "source": [
    "# from dask.distributed import Client\n",
    "# \n",
    "# client = Client()\n",
    "# client"
   ],
   "id": "d8c37e473f2e6f63",
   "outputs": [],
   "execution_count": 6
  },
  {
   "metadata": {
    "ExecuteTime": {
     "end_time": "2024-10-23T11:54:22.317212Z",
     "start_time": "2024-10-23T11:54:22.092760Z"
    }
   },
   "cell_type": "code",
   "source": [
    "arr = da.random.random((10000, 10000), chunks=(1000, 1000))\n",
    "result = arr.sum().compute()"
   ],
   "id": "aa7ff2fda78b0fa8",
   "outputs": [],
   "execution_count": 7
  },
  {
   "metadata": {},
   "cell_type": "markdown",
   "source": "Zadanie 3",
   "id": "f2417112c7109f6"
  },
  {
   "metadata": {
    "ExecuteTime": {
     "end_time": "2024-10-23T11:54:25.020098Z",
     "start_time": "2024-10-23T11:54:22.338932Z"
    }
   },
   "cell_type": "code",
   "source": [
    "client = Client(memory_limit='8GB', n_workers=2)\n",
    "client"
   ],
   "id": "dcb58c646e31982e",
   "outputs": [
    {
     "data": {
      "text/plain": [
       "<Client: 'tcp://127.0.0.1:54828' processes=2 threads=12, memory=14.90 GiB>"
      ],
      "text/html": [
       "<div>\n",
       "    <div style=\"width: 24px; height: 24px; background-color: #e1e1e1; border: 3px solid #9D9D9D; border-radius: 5px; position: absolute;\"> </div>\n",
       "    <div style=\"margin-left: 48px;\">\n",
       "        <h3 style=\"margin-bottom: 0px;\">Client</h3>\n",
       "        <p style=\"color: #9D9D9D; margin-bottom: 0px;\">Client-8b04a12b-9135-11ef-9284-94a767572aeb</p>\n",
       "        <table style=\"width: 100%; text-align: left;\">\n",
       "\n",
       "        <tr>\n",
       "        \n",
       "            <td style=\"text-align: left;\"><strong>Connection method:</strong> Cluster object</td>\n",
       "            <td style=\"text-align: left;\"><strong>Cluster type:</strong> distributed.LocalCluster</td>\n",
       "        \n",
       "        </tr>\n",
       "\n",
       "        \n",
       "            <tr>\n",
       "                <td style=\"text-align: left;\">\n",
       "                    <strong>Dashboard: </strong> <a href=\"http://127.0.0.1:8787/status\" target=\"_blank\">http://127.0.0.1:8787/status</a>\n",
       "                </td>\n",
       "                <td style=\"text-align: left;\"></td>\n",
       "            </tr>\n",
       "        \n",
       "\n",
       "        </table>\n",
       "\n",
       "        \n",
       "\n",
       "        \n",
       "            <details>\n",
       "            <summary style=\"margin-bottom: 20px;\"><h3 style=\"display: inline;\">Cluster Info</h3></summary>\n",
       "            <div class=\"jp-RenderedHTMLCommon jp-RenderedHTML jp-mod-trusted jp-OutputArea-output\">\n",
       "    <div style=\"width: 24px; height: 24px; background-color: #e1e1e1; border: 3px solid #9D9D9D; border-radius: 5px; position: absolute;\">\n",
       "    </div>\n",
       "    <div style=\"margin-left: 48px;\">\n",
       "        <h3 style=\"margin-bottom: 0px; margin-top: 0px;\">LocalCluster</h3>\n",
       "        <p style=\"color: #9D9D9D; margin-bottom: 0px;\">12a34ebe</p>\n",
       "        <table style=\"width: 100%; text-align: left;\">\n",
       "            <tr>\n",
       "                <td style=\"text-align: left;\">\n",
       "                    <strong>Dashboard:</strong> <a href=\"http://127.0.0.1:8787/status\" target=\"_blank\">http://127.0.0.1:8787/status</a>\n",
       "                </td>\n",
       "                <td style=\"text-align: left;\">\n",
       "                    <strong>Workers:</strong> 2\n",
       "                </td>\n",
       "            </tr>\n",
       "            <tr>\n",
       "                <td style=\"text-align: left;\">\n",
       "                    <strong>Total threads:</strong> 12\n",
       "                </td>\n",
       "                <td style=\"text-align: left;\">\n",
       "                    <strong>Total memory:</strong> 14.90 GiB\n",
       "                </td>\n",
       "            </tr>\n",
       "            \n",
       "            <tr>\n",
       "    <td style=\"text-align: left;\"><strong>Status:</strong> running</td>\n",
       "    <td style=\"text-align: left;\"><strong>Using processes:</strong> True</td>\n",
       "</tr>\n",
       "\n",
       "            \n",
       "        </table>\n",
       "\n",
       "        <details>\n",
       "            <summary style=\"margin-bottom: 20px;\">\n",
       "                <h3 style=\"display: inline;\">Scheduler Info</h3>\n",
       "            </summary>\n",
       "\n",
       "            <div style=\"\">\n",
       "    <div>\n",
       "        <div style=\"width: 24px; height: 24px; background-color: #FFF7E5; border: 3px solid #FF6132; border-radius: 5px; position: absolute;\"> </div>\n",
       "        <div style=\"margin-left: 48px;\">\n",
       "            <h3 style=\"margin-bottom: 0px;\">Scheduler</h3>\n",
       "            <p style=\"color: #9D9D9D; margin-bottom: 0px;\">Scheduler-160d83ed-280f-4d40-88a3-cc77c82c0c80</p>\n",
       "            <table style=\"width: 100%; text-align: left;\">\n",
       "                <tr>\n",
       "                    <td style=\"text-align: left;\">\n",
       "                        <strong>Comm:</strong> tcp://127.0.0.1:54828\n",
       "                    </td>\n",
       "                    <td style=\"text-align: left;\">\n",
       "                        <strong>Workers:</strong> 2\n",
       "                    </td>\n",
       "                </tr>\n",
       "                <tr>\n",
       "                    <td style=\"text-align: left;\">\n",
       "                        <strong>Dashboard:</strong> <a href=\"http://127.0.0.1:8787/status\" target=\"_blank\">http://127.0.0.1:8787/status</a>\n",
       "                    </td>\n",
       "                    <td style=\"text-align: left;\">\n",
       "                        <strong>Total threads:</strong> 12\n",
       "                    </td>\n",
       "                </tr>\n",
       "                <tr>\n",
       "                    <td style=\"text-align: left;\">\n",
       "                        <strong>Started:</strong> Just now\n",
       "                    </td>\n",
       "                    <td style=\"text-align: left;\">\n",
       "                        <strong>Total memory:</strong> 14.90 GiB\n",
       "                    </td>\n",
       "                </tr>\n",
       "            </table>\n",
       "        </div>\n",
       "    </div>\n",
       "\n",
       "    <details style=\"margin-left: 48px;\">\n",
       "        <summary style=\"margin-bottom: 20px;\">\n",
       "            <h3 style=\"display: inline;\">Workers</h3>\n",
       "        </summary>\n",
       "\n",
       "        \n",
       "        <div style=\"margin-bottom: 20px;\">\n",
       "            <div style=\"width: 24px; height: 24px; background-color: #DBF5FF; border: 3px solid #4CC9FF; border-radius: 5px; position: absolute;\"> </div>\n",
       "            <div style=\"margin-left: 48px;\">\n",
       "            <details>\n",
       "                <summary>\n",
       "                    <h4 style=\"margin-bottom: 0px; display: inline;\">Worker: 0</h4>\n",
       "                </summary>\n",
       "                <table style=\"width: 100%; text-align: left;\">\n",
       "                    <tr>\n",
       "                        <td style=\"text-align: left;\">\n",
       "                            <strong>Comm: </strong> tcp://127.0.0.1:54843\n",
       "                        </td>\n",
       "                        <td style=\"text-align: left;\">\n",
       "                            <strong>Total threads: </strong> 6\n",
       "                        </td>\n",
       "                    </tr>\n",
       "                    <tr>\n",
       "                        <td style=\"text-align: left;\">\n",
       "                            <strong>Dashboard: </strong> <a href=\"http://127.0.0.1:54844/status\" target=\"_blank\">http://127.0.0.1:54844/status</a>\n",
       "                        </td>\n",
       "                        <td style=\"text-align: left;\">\n",
       "                            <strong>Memory: </strong> 7.45 GiB\n",
       "                        </td>\n",
       "                    </tr>\n",
       "                    <tr>\n",
       "                        <td style=\"text-align: left;\">\n",
       "                            <strong>Nanny: </strong> tcp://127.0.0.1:54831\n",
       "                        </td>\n",
       "                        <td style=\"text-align: left;\"></td>\n",
       "                    </tr>\n",
       "                    <tr>\n",
       "                        <td colspan=\"2\" style=\"text-align: left;\">\n",
       "                            <strong>Local directory: </strong> C:\\Users\\dawid\\AppData\\Local\\Temp\\dask-scratch-space\\worker-b_adiu80\n",
       "                        </td>\n",
       "                    </tr>\n",
       "\n",
       "                    \n",
       "\n",
       "                    \n",
       "\n",
       "                </table>\n",
       "            </details>\n",
       "            </div>\n",
       "        </div>\n",
       "        \n",
       "        <div style=\"margin-bottom: 20px;\">\n",
       "            <div style=\"width: 24px; height: 24px; background-color: #DBF5FF; border: 3px solid #4CC9FF; border-radius: 5px; position: absolute;\"> </div>\n",
       "            <div style=\"margin-left: 48px;\">\n",
       "            <details>\n",
       "                <summary>\n",
       "                    <h4 style=\"margin-bottom: 0px; display: inline;\">Worker: 1</h4>\n",
       "                </summary>\n",
       "                <table style=\"width: 100%; text-align: left;\">\n",
       "                    <tr>\n",
       "                        <td style=\"text-align: left;\">\n",
       "                            <strong>Comm: </strong> tcp://127.0.0.1:54840\n",
       "                        </td>\n",
       "                        <td style=\"text-align: left;\">\n",
       "                            <strong>Total threads: </strong> 6\n",
       "                        </td>\n",
       "                    </tr>\n",
       "                    <tr>\n",
       "                        <td style=\"text-align: left;\">\n",
       "                            <strong>Dashboard: </strong> <a href=\"http://127.0.0.1:54841/status\" target=\"_blank\">http://127.0.0.1:54841/status</a>\n",
       "                        </td>\n",
       "                        <td style=\"text-align: left;\">\n",
       "                            <strong>Memory: </strong> 7.45 GiB\n",
       "                        </td>\n",
       "                    </tr>\n",
       "                    <tr>\n",
       "                        <td style=\"text-align: left;\">\n",
       "                            <strong>Nanny: </strong> tcp://127.0.0.1:54833\n",
       "                        </td>\n",
       "                        <td style=\"text-align: left;\"></td>\n",
       "                    </tr>\n",
       "                    <tr>\n",
       "                        <td colspan=\"2\" style=\"text-align: left;\">\n",
       "                            <strong>Local directory: </strong> C:\\Users\\dawid\\AppData\\Local\\Temp\\dask-scratch-space\\worker-4u78p2p1\n",
       "                        </td>\n",
       "                    </tr>\n",
       "\n",
       "                    \n",
       "\n",
       "                    \n",
       "\n",
       "                </table>\n",
       "            </details>\n",
       "            </div>\n",
       "        </div>\n",
       "        \n",
       "\n",
       "    </details>\n",
       "</div>\n",
       "\n",
       "        </details>\n",
       "    </div>\n",
       "</div>\n",
       "            </details>\n",
       "        \n",
       "\n",
       "    </div>\n",
       "</div>"
      ]
     },
     "execution_count": 8,
     "metadata": {},
     "output_type": "execute_result"
    }
   ],
   "execution_count": 8
  },
  {
   "metadata": {
    "ExecuteTime": {
     "end_time": "2024-10-23T11:54:25.127060Z",
     "start_time": "2024-10-23T11:54:25.066441Z"
    }
   },
   "cell_type": "code",
   "source": [
    "parquet_files = \"path_to_downloaded_files/*.parquet\"\n",
    "dask_df = dd.read_parquet(parquet_files)\n",
    "print(dask_df.info())\n",
    "%time dask_df.compute()"
   ],
   "id": "34a223412c2c7aec",
   "outputs": [
    {
     "name": "stdout",
     "output_type": "stream",
     "text": [
      "<class 'dask.dataframe.core.DataFrame'>\n",
      "RangeIndex: 0 entries\n",
      "Empty DataFrame\n",
      "None\n",
      "CPU times: total: 0 ns\n",
      "Wall time: 11.3 ms\n"
     ]
    },
    {
     "data": {
      "text/plain": [
       "Empty DataFrame\n",
       "Columns: []\n",
       "Index: []"
      ],
      "text/html": [
       "<div>\n",
       "<style scoped>\n",
       "    .dataframe tbody tr th:only-of-type {\n",
       "        vertical-align: middle;\n",
       "    }\n",
       "\n",
       "    .dataframe tbody tr th {\n",
       "        vertical-align: top;\n",
       "    }\n",
       "\n",
       "    .dataframe thead th {\n",
       "        text-align: right;\n",
       "    }\n",
       "</style>\n",
       "<table border=\"1\" class=\"dataframe\">\n",
       "  <thead>\n",
       "    <tr style=\"text-align: right;\">\n",
       "      <th></th>\n",
       "    </tr>\n",
       "  </thead>\n",
       "  <tbody>\n",
       "  </tbody>\n",
       "</table>\n",
       "</div>"
      ]
     },
     "execution_count": 9,
     "metadata": {},
     "output_type": "execute_result"
    }
   ],
   "execution_count": 9
  },
  {
   "metadata": {
    "ExecuteTime": {
     "end_time": "2024-10-23T11:54:25.269099Z",
     "start_time": "2024-10-23T11:54:25.245066Z"
    }
   },
   "cell_type": "code",
   "source": [
    "start_time = time.time()\n",
    "dask_df.compute()\n",
    "end_time = time.time()\n",
    "print(f\"Czas wczytywania danych: {end_time - start_time:.2f} sekundy\")"
   ],
   "id": "9204688a1e1f41c6",
   "outputs": [
    {
     "name": "stdout",
     "output_type": "stream",
     "text": [
      "Czas wczytywania danych: 0.02 sekundy\n"
     ]
    }
   ],
   "execution_count": 10
  },
  {
   "metadata": {},
   "cell_type": "markdown",
   "source": "Zadanie 4",
   "id": "a782c4ad5204b20"
  },
  {
   "metadata": {
    "ExecuteTime": {
     "end_time": "2024-10-23T11:54:25.329268Z",
     "start_time": "2024-10-23T11:54:25.325921Z"
    }
   },
   "cell_type": "code",
   "source": "",
   "id": "ed3169c214de43a1",
   "outputs": [],
   "execution_count": null
  },
  {
   "metadata": {
    "ExecuteTime": {
     "end_time": "2024-10-23T11:54:25.375367Z",
     "start_time": "2024-10-23T11:54:25.372070Z"
    }
   },
   "cell_type": "code",
   "source": "",
   "id": "502504586fc94dbe",
   "outputs": [],
   "execution_count": null
  },
  {
   "metadata": {
    "ExecuteTime": {
     "end_time": "2024-10-23T11:54:25.399076Z",
     "start_time": "2024-10-23T11:54:25.396752Z"
    }
   },
   "cell_type": "code",
   "source": "",
   "id": "31824fd047a552cd",
   "outputs": [],
   "execution_count": null
  },
  {
   "metadata": {
    "ExecuteTime": {
     "end_time": "2024-10-23T11:54:25.423557Z",
     "start_time": "2024-10-23T11:54:25.419902Z"
    }
   },
   "cell_type": "code",
   "source": "",
   "id": "fb9d9d959367954a",
   "outputs": [],
   "execution_count": null
  }
 ],
 "metadata": {
  "kernelspec": {
   "display_name": "Python 3",
   "language": "python",
   "name": "python3"
  },
  "language_info": {
   "codemirror_mode": {
    "name": "ipython",
    "version": 2
   },
   "file_extension": ".py",
   "mimetype": "text/x-python",
   "name": "python",
   "nbconvert_exporter": "python",
   "pygments_lexer": "ipython2",
   "version": "2.7.6"
  }
 },
 "nbformat": 4,
 "nbformat_minor": 5
}
