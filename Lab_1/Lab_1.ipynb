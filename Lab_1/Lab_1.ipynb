{
 "cells": [
  {
   "metadata": {},
   "cell_type": "raw",
   "source": [
    "Zbiór danych do wykonania zadań: https://huggingface.co/datasets/vargr/private_instagram/tree/refs%2Fconvert%2Fparquet/default/train\n",
    "\n",
    "Zadanie 1\n",
    "Wczytaj pliki danych i scal je w jedną ramkę DataFrame.\n",
    "Wykonaj analizę typów danych podobnie jak w przykładach.\n",
    "Zmierz wielkość pamięci RAM ramki z domyślnymi typami danych.\n",
    "\n",
    "Zadanie 2\n",
    "Dobierz bardziej optymalne typy danych i ponownie zmierz wielkość zajmowanej pamięci RAM.\n",
    "Porównaj obie wielkości na wykresie (wybierz pasujący typ wykresu).\n",
    "\n",
    "Zadanie 3\n",
    "Wykonaj 3 wybrane operacje (grupowanie + agregacja, filtrowanie, itp.) na całej ramce i zmierz czas wykonania na danych oryginalnych i zoptymalizowanych.\n",
    "Wyświetl te czasy.\n",
    "\n",
    "Zadanie 4\n",
    "Zapisz ramkę jako plik csv, z nagłówkami kolumn, bez indeksu.\n",
    "Sprawdź jaka jest różnica w wielkości pliku csv i sumy wielkości plików w formacie parquet (w eksploratorze, nie trzeba tego robić z poziomu kodu).\n",
    "\n",
    "Zadanie 5\n",
    "Zmierz czas wczytywania danych z pliku csv dla 3 przypadków:\n",
    "* cały plik na raz,\n",
    "* cały plik ze wskazaniem parametru `chunksize` (możesz poeksperymentować z wielkością tego parametru),\n",
    "* z użyciem multiprocessingu zaprezentowanego w przykładzie (wcześniej podziel plik na kilka mniejszych), wskazując ilość procesów jako `ilość_rdzeni - 2` oraz drugi przypadek `(ilosc_rdzeni - 2) * 2`.\n",
    "\n",
    "\n",
    "Zadanie 6** (z gwiazdką, nie jest obowiązkowe, ale pouczające)\n",
    "\n",
    "Wczytaj każdy plik podzielony w zadaniu 5 do oddzielnej ramki danych.\n",
    "Dla każdej ramki policz sumę na kolumnie `likes`, a następnie policz sumę tych sum. Tę część zadania wykonaj sekwencyjnie.\n",
    "Teraz wykorzystując multiprocessing (i przykłady z labu)\n",
    "wykonaj to samo zadanie zrównoleglając je. Zmierz czas obu przypadków i go wyświetl."
   ],
   "id": "d192cbff4e0c3203"
  },
  {
   "metadata": {
    "ExecuteTime": {
     "end_time": "2024-10-23T11:25:53.139277700Z",
     "start_time": "2024-10-23T11:23:26.081996Z"
    }
   },
   "cell_type": "code",
   "source": [
    "import numpy as np\n",
    "import pandas as pd\n",
    "import matplotlib.pyplot as plt\n",
    "import time\n",
    "import multiprocessing as mp"
   ],
   "id": "5dc604d418d7c78e",
   "outputs": [],
   "execution_count": 1
  },
  {
   "metadata": {
    "ExecuteTime": {
     "end_time": "2024-10-23T11:25:53.140281700Z",
     "start_time": "2024-10-16T12:00:24.934193Z"
    }
   },
   "cell_type": "code",
   "source": [
    "plik_1 = pd.read_parquet('plik_1.parquet')\n",
    "plik_2 = pd.read_parquet('plik_2.parquet')"
   ],
   "id": "f97d20825ba0dc63",
   "outputs": [],
   "execution_count": 50
  },
  {
   "metadata": {
    "ExecuteTime": {
     "end_time": "2024-10-23T11:25:53.140281700Z",
     "start_time": "2024-10-16T12:00:35.332177Z"
    }
   },
   "cell_type": "code",
   "source": "df = pd.concat([plik_1, plik_2], ignore_index=True)",
   "id": "291fd94fcb78dafc",
   "outputs": [],
   "execution_count": 51
  },
  {
   "metadata": {
    "ExecuteTime": {
     "end_time": "2024-10-23T11:25:53.140281700Z",
     "start_time": "2024-10-16T12:00:35.570773Z"
    }
   },
   "cell_type": "code",
   "source": [
    "print(\"Typy danych w DataFrame:\\n\", df.dtypes)\n",
    "\n",
    "memory_usage = df.memory_usage(deep=True).sum()\n",
    "print(f'Wielkość pamięci zajmowana: {memory_usage / 1024 / 1024:.2f} MB')"
   ],
   "id": "6b994fba0f06f4e1",
   "outputs": [
    {
     "name": "stdout",
     "output_type": "stream",
     "text": [
      "Typy danych w DataFrame:\n",
      " sid                     int64\n",
      "sid_profile             int64\n",
      "post_id                object\n",
      "profile_id              int64\n",
      "date                   object\n",
      "post_type               int64\n",
      "description            object\n",
      "likes                   int64\n",
      "comments                int64\n",
      "username               object\n",
      "bio                    object\n",
      "following               int64\n",
      "followers               int64\n",
      "num_posts               int64\n",
      "is_business_account      bool\n",
      "lang                   object\n",
      "category               object\n",
      "dtype: object\n",
      "Wielkość pamięci zajmowana: 2949.80 MB\n"
     ]
    }
   ],
   "execution_count": 52
  },
  {
   "metadata": {},
   "cell_type": "markdown",
   "source": "Zadanie 2",
   "id": "66baac7db0a575cf"
  },
  {
   "metadata": {
    "ExecuteTime": {
     "end_time": "2024-10-23T11:25:53.141279500Z",
     "start_time": "2024-10-16T12:00:38.469810Z"
    }
   },
   "cell_type": "code",
   "source": "",
   "id": "510e51b7a50118d0",
   "outputs": [],
   "execution_count": null
  },
  {
   "metadata": {
    "ExecuteTime": {
     "end_time": "2024-10-23T11:25:53.141279500Z",
     "start_time": "2024-10-16T12:00:38.538690Z"
    }
   },
   "cell_type": "code",
   "source": [
    "original_memory_usage = df.memory_usage(deep=True).sum()\n",
    "print(f'Wielkość pamięci zajmowana przed optymalizacją: {original_memory_usage / 1024 / 1024:.2f} MB')\n",
    "\n",
    "def optimize_dataframe(df):\n",
    "    for col in df.columns:\n",
    "        col_type = df[col].dtype\n",
    "\n",
    "        if col_type == 'float64':\n",
    "            df[col] = df[col].astype('float32')\n",
    "        elif col_type == 'int64':\n",
    "            df[col] = df[col].astype('int32')\n",
    "        elif col_type == 'object':\n",
    "            num_unique_values = len(df[col].unique())\n",
    "            num_total_values = len(df[col])\n",
    "            if num_unique_values / num_total_values < 0.5:\n",
    "                df[col] = df[col].astype('category')\n",
    "\n",
    "    return df\n",
    "\n",
    "df_optimized = optimize_dataframe(df)\n",
    "\n",
    "optimized_memory_usage = df_optimized.memory_usage(deep=True).sum()\n",
    "print(f'Wielkość pamięci zajmowana po optymalizacji: {optimized_memory_usage / 1024 / 1024:.2f} MB')\n",
    "\n",
    "memory_usage_comparison = [original_memory_usage / 1024 / 1024, optimized_memory_usage / 1024 / 1024]\n",
    "\n",
    "plt.figure(figsize=(8, 6))\n",
    "plt.bar(['Przed optymalizacją', 'Po optymalizacji'], memory_usage_comparison, color=['blue', 'green'])\n",
    "plt.ylabel('Zużycie pamięci (MB)')\n",
    "plt.title('Porównanie zużycia pamięci')\n",
    "plt.show()"
   ],
   "id": "d6634b49bca846e9",
   "outputs": [
    {
     "name": "stdout",
     "output_type": "stream",
     "text": [
      "Wielkość pamięci zajmowana przed optymalizacją: 2949.80 MB\n",
      "Wielkość pamięci zajmowana po optymalizacji: 2189.74 MB\n"
     ]
    },
    {
     "data": {
      "text/plain": [
       "<Figure size 800x600 with 1 Axes>"
      ],
      "image/png": "[encoded data removed]"
     },
     "metadata": {},
     "output_type": "display_data"
    }
   ],
   "execution_count": 53
  },
  {
   "metadata": {},
   "cell_type": "markdown",
   "source": "Zadanie 3",
   "id": "edb5f8a79d88e0a1"
  },
  {
   "metadata": {},
   "cell_type": "markdown",
   "source": "grupowanie",
   "id": "4a3979eafdb41168"
  },
  {
   "metadata": {
    "ExecuteTime": {
     "end_time": "2024-10-23T11:25:53.142280200Z",
     "start_time": "2024-10-16T12:00:50.404678Z"
    }
   },
   "cell_type": "code",
   "source": [
    "def perform_operations(df):\n",
    "    group_agg = df.groupby('category', observed=False).agg({'likes': 'mean'})\n",
    "    filtered_df = df[df['comments'] > 10]\n",
    "    df['double_followers'] = df['followers'] * 2\n",
    "\n",
    "    return group_agg, filtered_df, df\n"
   ],
   "id": "3c4e7384912007b3",
   "outputs": [],
   "execution_count": 54
  },
  {
   "metadata": {
    "ExecuteTime": {
     "end_time": "2024-10-23T11:25:53.143278900Z",
     "start_time": "2024-10-16T12:00:50.425105Z"
    }
   },
   "cell_type": "code",
   "source": [
    "def measure_time(df):\n",
    "    start_time = time.time()\n",
    "    perform_operations(df)\n",
    "    end_time = time.time()\n",
    "    return end_time - start_time"
   ],
   "id": "9ae588ec0042c5dd",
   "outputs": [],
   "execution_count": 55
  },
  {
   "metadata": {
    "ExecuteTime": {
     "end_time": "2024-10-23T11:25:53.143278900Z",
     "start_time": "2024-10-16T12:00:50.463319Z"
    }
   },
   "cell_type": "code",
   "source": [
    "print(\"Mierzenie czasu operacji na oryginalnych danych...\")\n",
    "time_original = measure_time(df)\n",
    "print(f'Czas operacji na oryginalnych danych: {time_original:.4f} sekund')\n",
    "\n",
    "print(\"Mierzenie czasu operacji na zoptymalizowanych danych...\")\n",
    "time_optimized = measure_time(df_optimized)\n",
    "print(f'Czas operacji na zoptymalizowanych danych: {time_optimized:.4f} sekund')\n",
    "\n",
    "times_comparison = [time_original, time_optimized]\n",
    "\n",
    "plt.figure(figsize=(8, 6))\n",
    "plt.bar(['Oryginalne dane', 'Zoptymalizowane dane'], times_comparison, color=['blue', 'green'])\n",
    "plt.ylabel('Czas operacji (sekundy)')\n",
    "plt.title('Porównanie czasu operacji')\n",
    "plt.show()"
   ],
   "id": "c57a5725de872852",
   "outputs": [
    {
     "name": "stdout",
     "output_type": "stream",
     "text": [
      "Mierzenie czasu operacji na oryginalnych danych...\n",
      "Czas operacji na oryginalnych danych: 0.1303 sekund\n",
      "Mierzenie czasu operacji na zoptymalizowanych danych...\n",
      "Czas operacji na zoptymalizowanych danych: 0.1158 sekund\n"
     ]
    },
    {
     "data": {
      "text/plain": [
       "<Figure size 800x600 with 1 Axes>"
      ],
      "image/png": "[encoded data removed]"
     },
     "metadata": {},
     "output_type": "display_data"
    }
   ],
   "execution_count": 56
  },
  {
   "metadata": {},
   "cell_type": "markdown",
   "source": "",
   "id": "3e58b69b27d027e9"
  },
  {
   "metadata": {},
   "cell_type": "markdown",
   "source": "Zadanie 4",
   "id": "8d8638481a7b575b"
  },
  {
   "metadata": {
    "ExecuteTime": {
     "end_time": "2024-10-23T11:25:53.143278900Z",
     "start_time": "2024-10-16T12:00:50.862308Z"
    }
   },
   "cell_type": "code",
   "source": "df.to_csv('dane.csv', index=False)",
   "id": "1ae2cfa396f2ad83",
   "outputs": [],
   "execution_count": 57
  },
  {
   "metadata": {},
   "cell_type": "markdown",
   "source": "2 pliki = 384,625Mb vs 1 plik= 959,247Mb",
   "id": "7b13ca2b4a735aaf"
  },
  {
   "metadata": {
    "ExecuteTime": {
     "end_time": "2024-10-23T11:25:53.134531Z",
     "start_time": "2024-10-23T11:23:28.972935Z"
    }
   },
   "cell_type": "code",
   "source": [
    "def load_csv(filepath, chunksize=None):\n",
    "    if chunksize:\n",
    "        return pd.concat(pd.read_csv(filepath, chunksize=chunksize))\n",
    "    else:\n",
    "        return pd.read_csv(filepath)\n",
    "\n",
    "\n",
    "start_time = time.time()\n",
    "df_full = load_csv('dane.csv')\n",
    "end_time = time.time()\n",
    "print(f\"Czas wczytywania całego pliku na raz: {end_time - start_time:.4f} sekund\")\n",
    "\n",
    "\n",
    "chunk_sizes = [1000, 5000, 10000]\n",
    "for size in chunk_sizes:\n",
    "    start_time = time.time()\n",
    "    df_chunks = load_csv('dane.csv', chunksize=size)\n",
    "    end_time = time.time()\n",
    "    print(f\"Czas wczytywania pliku z chunksize={size}: {end_time - start_time:.4f} sekund\")\n",
    "\n",
    "\n",
    "def load_csv_multiprocessing(filepath, chunk_size, num_processes):\n",
    "    chunks = pd.read_csv(filepath, chunksize=chunk_size)\n",
    "    with mp.Pool(processes=num_processes) as pool:\n",
    "        dfs = pool.map(pd.concat, chunks)\n",
    "    return pd.concat(dfs)\n",
    "\n",
    "\n",
    "num_cores = mp.cpu_count()\n",
    "for multiplier in [1, 2]:\n",
    "    num_processes = (num_cores - 2) * multiplier\n",
    "    chunk_size = 5000\n",
    "    start_time = time.time()\n",
    "    df_multiprocessing = load_csv_multiprocessing('dane.csv', chunk_size, num_processes)\n",
    "    end_time = time.time()\n",
    "    print(f\"Czas wczytywania pliku z multiprocessingu (procesy={num_processes}): {end_time - start_time:.4f} sekund\")"
   ],
   "id": "38d2b047cec1e80",
   "outputs": [
    {
     "name": "stdout",
     "output_type": "stream",
     "text": [
      "Czas wczytywania całego pliku na raz: 23.0776 sekund\n",
      "Czas wczytywania pliku z chunksize=1000: 38.3144 sekund\n",
      "Czas wczytywania pliku z chunksize=5000: 27.2241 sekund\n",
      "Czas wczytywania pliku z chunksize=10000: 20.6464 sekund\n"
     ]
    },
    {
     "ename": "TypeError",
     "evalue": "first argument must be an iterable of pandas objects, you passed an object of type \"DataFrame\"",
     "output_type": "error",
     "traceback": [
      "\u001B[1;31m---------------------------------------------------------------------------\u001B[0m",
      "\u001B[1;31mRemoteTraceback\u001B[0m                           Traceback (most recent call last)",
      "\u001B[1;31mRemoteTraceback\u001B[0m: \n\"\"\"\nTraceback (most recent call last):\n  File \"C:\\Users\\dawid\\anaconda3\\Lib\\multiprocessing\\pool.py\", line 125, in worker\n    result = (True, func(*args, **kwds))\n                    ^^^^^^^^^^^^^^^^^^^\n  File \"C:\\Users\\dawid\\anaconda3\\Lib\\multiprocessing\\pool.py\", line 48, in mapstar\n    return list(map(*args))\n           ^^^^^^^^^^^^^^^^\n  File \"C:\\Users\\dawid\\anaconda3\\Lib\\site-packages\\pandas\\core\\reshape\\concat.py\", line 380, in concat\n    op = _Concatenator(\n         ^^^^^^^^^^^^^^\n  File \"C:\\Users\\dawid\\anaconda3\\Lib\\site-packages\\pandas\\core\\reshape\\concat.py\", line 417, in __init__\n    raise TypeError(\nTypeError: first argument must be an iterable of pandas objects, you passed an object of type \"DataFrame\"\n\"\"\"",
      "\nThe above exception was the direct cause of the following exception:\n",
      "\u001B[1;31mTypeError\u001B[0m                                 Traceback (most recent call last)",
      "Cell \u001B[1;32mIn[2], line 34\u001B[0m\n\u001B[0;32m     32\u001B[0m chunk_size \u001B[38;5;241m=\u001B[39m \u001B[38;5;241m5000\u001B[39m\n\u001B[0;32m     33\u001B[0m start_time \u001B[38;5;241m=\u001B[39m time\u001B[38;5;241m.\u001B[39mtime()\n\u001B[1;32m---> 34\u001B[0m df_multiprocessing \u001B[38;5;241m=\u001B[39m load_csv_multiprocessing(\u001B[38;5;124m'\u001B[39m\u001B[38;5;124mdane.csv\u001B[39m\u001B[38;5;124m'\u001B[39m, chunk_size, num_processes)\n\u001B[0;32m     35\u001B[0m end_time \u001B[38;5;241m=\u001B[39m time\u001B[38;5;241m.\u001B[39mtime()\n\u001B[0;32m     36\u001B[0m \u001B[38;5;28mprint\u001B[39m(\u001B[38;5;124mf\u001B[39m\u001B[38;5;124m\"\u001B[39m\u001B[38;5;124mCzas wczytywania pliku z multiprocessingu (procesy=\u001B[39m\u001B[38;5;132;01m{\u001B[39;00mnum_processes\u001B[38;5;132;01m}\u001B[39;00m\u001B[38;5;124m): \u001B[39m\u001B[38;5;132;01m{\u001B[39;00mend_time\u001B[38;5;250m \u001B[39m\u001B[38;5;241m-\u001B[39m\u001B[38;5;250m \u001B[39mstart_time\u001B[38;5;132;01m:\u001B[39;00m\u001B[38;5;124m.4f\u001B[39m\u001B[38;5;132;01m}\u001B[39;00m\u001B[38;5;124m sekund\u001B[39m\u001B[38;5;124m\"\u001B[39m)\n",
      "Cell \u001B[1;32mIn[2], line 25\u001B[0m, in \u001B[0;36mload_csv_multiprocessing\u001B[1;34m(filepath, chunk_size, num_processes)\u001B[0m\n\u001B[0;32m     23\u001B[0m chunks \u001B[38;5;241m=\u001B[39m pd\u001B[38;5;241m.\u001B[39mread_csv(filepath, chunksize\u001B[38;5;241m=\u001B[39mchunk_size)\n\u001B[0;32m     24\u001B[0m \u001B[38;5;28;01mwith\u001B[39;00m mp\u001B[38;5;241m.\u001B[39mPool(processes\u001B[38;5;241m=\u001B[39mnum_processes) \u001B[38;5;28;01mas\u001B[39;00m pool:\n\u001B[1;32m---> 25\u001B[0m     dfs \u001B[38;5;241m=\u001B[39m pool\u001B[38;5;241m.\u001B[39mmap(pd\u001B[38;5;241m.\u001B[39mconcat, chunks)\n\u001B[0;32m     26\u001B[0m \u001B[38;5;28;01mreturn\u001B[39;00m pd\u001B[38;5;241m.\u001B[39mconcat(dfs)\n",
      "File \u001B[1;32m~\\anaconda3\\Lib\\multiprocessing\\pool.py:367\u001B[0m, in \u001B[0;36mPool.map\u001B[1;34m(self, func, iterable, chunksize)\u001B[0m\n\u001B[0;32m    362\u001B[0m \u001B[38;5;28;01mdef\u001B[39;00m \u001B[38;5;21mmap\u001B[39m(\u001B[38;5;28mself\u001B[39m, func, iterable, chunksize\u001B[38;5;241m=\u001B[39m\u001B[38;5;28;01mNone\u001B[39;00m):\n\u001B[0;32m    363\u001B[0m \u001B[38;5;250m    \u001B[39m\u001B[38;5;124;03m'''\u001B[39;00m\n\u001B[0;32m    364\u001B[0m \u001B[38;5;124;03m    Apply `func` to each element in `iterable`, collecting the results\u001B[39;00m\n\u001B[0;32m    365\u001B[0m \u001B[38;5;124;03m    in a list that is returned.\u001B[39;00m\n\u001B[0;32m    366\u001B[0m \u001B[38;5;124;03m    '''\u001B[39;00m\n\u001B[1;32m--> 367\u001B[0m     \u001B[38;5;28;01mreturn\u001B[39;00m \u001B[38;5;28mself\u001B[39m\u001B[38;5;241m.\u001B[39m_map_async(func, iterable, mapstar, chunksize)\u001B[38;5;241m.\u001B[39mget()\n",
      "File \u001B[1;32m~\\anaconda3\\Lib\\multiprocessing\\pool.py:774\u001B[0m, in \u001B[0;36mApplyResult.get\u001B[1;34m(self, timeout)\u001B[0m\n\u001B[0;32m    772\u001B[0m     \u001B[38;5;28;01mreturn\u001B[39;00m \u001B[38;5;28mself\u001B[39m\u001B[38;5;241m.\u001B[39m_value\n\u001B[0;32m    773\u001B[0m \u001B[38;5;28;01melse\u001B[39;00m:\n\u001B[1;32m--> 774\u001B[0m     \u001B[38;5;28;01mraise\u001B[39;00m \u001B[38;5;28mself\u001B[39m\u001B[38;5;241m.\u001B[39m_value\n",
      "\u001B[1;31mTypeError\u001B[0m: first argument must be an iterable of pandas objects, you passed an object of type \"DataFrame\""
     ]
    }
   ],
   "execution_count": 2
  },
  {
   "metadata": {
    "ExecuteTime": {
     "end_time": "2024-10-23T11:25:53.143278900Z",
     "start_time": "2024-10-16T12:01:17.242419Z"
    }
   },
   "cell_type": "code",
   "source": "",
   "id": "ae331554043c993c",
   "outputs": [],
   "execution_count": null
  },
  {
   "metadata": {
    "ExecuteTime": {
     "end_time": "2024-10-23T11:25:53.144277600Z",
     "start_time": "2024-10-16T12:01:17.278860Z"
    }
   },
   "cell_type": "code",
   "source": "",
   "id": "6ab256b98dd6815f",
   "outputs": [],
   "execution_count": null
  },
  {
   "metadata": {
    "ExecuteTime": {
     "end_time": "2024-10-23T11:25:53.144277600Z",
     "start_time": "2024-10-16T12:01:17.314944Z"
    }
   },
   "cell_type": "code",
   "source": "",
   "id": "9b79a351a4615bcc",
   "outputs": [],
   "execution_count": null
  },
  {
   "metadata": {
    "ExecuteTime": {
     "end_time": "2024-10-23T11:25:53.144277600Z",
     "start_time": "2024-10-16T12:01:17.352095Z"
    }
   },
   "cell_type": "code",
   "source": "",
   "id": "a09ff46df68492ef",
   "outputs": [],
   "execution_count": null
  },
  {
   "metadata": {
    "ExecuteTime": {
     "end_time": "2024-10-23T11:25:53.144277600Z",
     "start_time": "2024-10-16T12:01:17.420302Z"
    }
   },
   "cell_type": "code",
   "source": "",
   "id": "71f528098a7ef421",
   "outputs": [],
   "execution_count": null
  },
  {
   "metadata": {
    "ExecuteTime": {
     "end_time": "2024-10-23T11:25:53.144277600Z",
     "start_time": "2024-10-16T12:01:17.429778Z"
    }
   },
   "cell_type": "code",
   "source": "",
   "id": "5bd961259822d3b",
   "outputs": [],
   "execution_count": null
  },
  {
   "metadata": {
    "ExecuteTime": {
     "end_time": "2024-10-23T11:25:53.144277600Z",
     "start_time": "2024-10-16T12:01:17.465493Z"
    }
   },
   "cell_type": "code",
   "source": "",
   "id": "b126d40221892aa8",
   "outputs": [],
   "execution_count": null
  },
  {
   "metadata": {
    "ExecuteTime": {
     "end_time": "2024-10-23T11:25:53.145277300Z",
     "start_time": "2024-10-16T12:01:17.501886Z"
    }
   },
   "cell_type": "code",
   "source": "",
   "id": "821f8e10c98b4c8b",
   "outputs": [],
   "execution_count": null
  },
  {
   "metadata": {
    "ExecuteTime": {
     "end_time": "2024-10-23T11:25:53.145277300Z",
     "start_time": "2024-10-16T12:01:17.537109Z"
    }
   },
   "cell_type": "code",
   "source": "",
   "id": "c213a14a34e1bd7d",
   "outputs": [],
   "execution_count": null
  },
  {
   "metadata": {
    "ExecuteTime": {
     "end_time": "2024-10-23T11:25:53.145277300Z",
     "start_time": "2024-10-16T12:01:17.575498Z"
    }
   },
   "cell_type": "code",
   "source": "",
   "id": "256fa10bb776bbff",
   "outputs": [],
   "execution_count": null
  },
  {
   "metadata": {
    "ExecuteTime": {
     "end_time": "2024-10-23T11:25:53.145783100Z",
     "start_time": "2024-10-16T12:01:17.610359Z"
    }
   },
   "cell_type": "code",
   "source": "",
   "id": "e35fa50926a4a927",
   "outputs": [],
   "execution_count": null
  },
  {
   "metadata": {
    "ExecuteTime": {
     "end_time": "2024-10-23T11:25:53.145783100Z",
     "start_time": "2024-10-16T12:01:17.648457Z"
    }
   },
   "cell_type": "code",
   "source": "",
   "id": "2f67ab478f88f672",
   "outputs": [],
   "execution_count": null
  },
  {
   "metadata": {
    "ExecuteTime": {
     "end_time": "2024-10-23T11:25:53.145783100Z",
     "start_time": "2024-10-16T12:01:17.680530Z"
    }
   },
   "cell_type": "code",
   "source": "",
   "id": "6289d756d8fce227",
   "outputs": [],
   "execution_count": null
  },
  {
   "metadata": {
    "ExecuteTime": {
     "end_time": "2024-10-23T11:25:53.145783100Z",
     "start_time": "2024-10-16T12:01:17.718154Z"
    }
   },
   "cell_type": "code",
   "source": "",
   "id": "2c5eacb1dfce3321",
   "outputs": [],
   "execution_count": null
  },
  {
   "metadata": {
    "ExecuteTime": {
     "end_time": "2024-10-23T11:25:53.146794300Z",
     "start_time": "2024-10-16T12:01:17.752991Z"
    }
   },
   "cell_type": "code",
   "source": "",
   "id": "f892af95808d95ed",
   "outputs": [],
   "execution_count": null
  },
  {
   "metadata": {
    "ExecuteTime": {
     "end_time": "2024-10-23T11:25:53.146794300Z",
     "start_time": "2024-10-16T12:01:17.792940Z"
    }
   },
   "cell_type": "code",
   "source": "",
   "id": "5a244aca28933f9b",
   "outputs": [],
   "execution_count": null
  },
  {
   "metadata": {
    "ExecuteTime": {
     "end_time": "2024-10-23T11:25:53.146794300Z",
     "start_time": "2024-10-16T12:01:17.828449Z"
    }
   },
   "cell_type": "code",
   "source": "",
   "id": "2e6c8d201dff6fd3",
   "outputs": [],
   "execution_count": null
  },
  {
   "metadata": {
    "ExecuteTime": {
     "end_time": "2024-10-23T11:25:53.146794300Z",
     "start_time": "2024-10-16T12:01:17.863436Z"
    }
   },
   "cell_type": "code",
   "source": "",
   "id": "845edc8fe3c1611f",
   "outputs": [],
   "execution_count": null
  },
  {
   "metadata": {
    "ExecuteTime": {
     "end_time": "2024-10-23T11:25:53.146794300Z",
     "start_time": "2024-10-16T12:01:17.898154Z"
    }
   },
   "cell_type": "code",
   "source": "",
   "id": "539653402ffe5942",
   "outputs": [],
   "execution_count": null
  },
  {
   "metadata": {
    "ExecuteTime": {
     "end_time": "2024-10-23T11:25:53.147804300Z",
     "start_time": "2024-10-16T12:01:17.932709Z"
    }
   },
   "cell_type": "code",
   "source": "",
   "id": "dbb735a86420f8c7",
   "outputs": [],
   "execution_count": null
  },
  {
   "metadata": {
    "ExecuteTime": {
     "end_time": "2024-10-23T11:25:53.147804300Z",
     "start_time": "2024-10-16T12:01:17.967557Z"
    }
   },
   "cell_type": "code",
   "source": "",
   "id": "7cc0e2a150e9bcd0",
   "outputs": [],
   "execution_count": null
  },
  {
   "metadata": {
    "ExecuteTime": {
     "end_time": "2024-10-23T11:25:53.147804300Z",
     "start_time": "2024-10-16T12:01:18.001956Z"
    }
   },
   "cell_type": "code",
   "source": "",
   "id": "2b1db8a619a97567",
   "outputs": [],
   "execution_count": null
  },
  {
   "metadata": {
    "ExecuteTime": {
     "end_time": "2024-10-23T11:25:53.147804300Z",
     "start_time": "2024-10-16T12:01:18.039509Z"
    }
   },
   "cell_type": "code",
   "source": "",
   "id": "512da28456f40f8d",
   "outputs": [],
   "execution_count": null
  },
  {
   "metadata": {
    "ExecuteTime": {
     "end_time": "2024-10-23T11:25:53.147804300Z",
     "start_time": "2024-10-16T12:01:18.072943Z"
    }
   },
   "cell_type": "code",
   "source": "",
   "id": "4b4f32a5cd99cf80",
   "outputs": [],
   "execution_count": null
  },
  {
   "metadata": {
    "ExecuteTime": {
     "end_time": "2024-10-23T11:25:53.147804300Z",
     "start_time": "2024-10-16T12:01:18.110568Z"
    }
   },
   "cell_type": "code",
   "source": "",
   "id": "200a0f9250b3070b",
   "outputs": [],
   "execution_count": null
  },
  {
   "metadata": {
    "ExecuteTime": {
     "end_time": "2024-10-23T11:25:53.148805300Z",
     "start_time": "2024-10-16T12:01:18.145479Z"
    }
   },
   "cell_type": "code",
   "source": "",
   "id": "f172417a241bd10f",
   "outputs": [],
   "execution_count": null
  }
 ],
 "metadata": {
  "kernelspec": {
   "display_name": "Python 3",
   "language": "python",
   "name": "python3"
  },
  "language_info": {
   "codemirror_mode": {
    "name": "ipython",
    "version": 2
   },
   "file_extension": ".py",
   "mimetype": "text/x-python",
   "name": "python",
   "nbconvert_exporter": "python",
   "pygments_lexer": "ipython2",
   "version": "2.7.6"
  }
 },
 "nbformat": 4,
 "nbformat_minor": 5
}
