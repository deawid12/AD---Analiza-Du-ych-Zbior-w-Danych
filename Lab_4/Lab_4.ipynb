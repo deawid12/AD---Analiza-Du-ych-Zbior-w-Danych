{
 "cells": [
  {
   "metadata": {},
   "cell_type": "markdown",
   "source": [
    "Zadanie 1\n",
    "Uruchom przykład Incremental learning z punktu 2.1 dobierając parametry tak, aby ilość danych do przeliczenia była większa niż sumaryczna ilość pamięci RAM workerów. Obserwuj daszboard i w razie niepowodzenia dostosuj wielkość i ilość chunków tak, aby obliczenia się wykonały na tych samych parametrach workerów. Zobacz jak wygląda struktura pamięci na workerach, czy nie dochodzi do zrzucania pamięci na dysk (zapewne będzie on wąskim gardłem, więc w menedżerze będzie widać jego mocne obciążenie). Zastanów się czy można to jakoś zoptymalizować przy dostępnych workerach i wykonaj kilka eksperymentów szukając większej wydajności i krótszego czasu wykonania całego zadania.\n",
    "\n",
    "Zadanie 2\n",
    "Dokonaj serializacji modelu z zadania 1 na dysk i następnie go wczytaj ponownie tak, aby można było uruchomić na nim predykcję dla tablic X_test oraz y_test (dla użycia miar klasyfikacji) i wyświetl macierz klasyfikacji (confusion matrix).\n",
    "\n",
    "Zadanie 3\n",
    "Korzystając z danych stworzonych w zadaniu 1 uruchom poszukiwanie optymalnych parametrów modelu tak jak zostało to zaprezentowane w przykładzie 5. Ta metoda powinna sama wybierać modele obiecujące i trenować je na większej liczbie danych porzucając jednocześnie modele, które nie rokują. Sprawdź jak wyglądają najlepsze wyliczone parametry vs. te użyte w zadaniu 1 i ewentualnie dopasuj próbkę danych jeżeli jej inicjalna wielkość nie pozwala na wykonanie zadania (zwróć uwagę na ilość i wielkość chunków w przykładzie 3 oraz 5, w tym drugim jest ich znacznie więcej, co przyspiesza poszukiwanie optymalnych parametrów)."
   ],
   "id": "738482edf705ee9"
  },
  {
   "metadata": {
    "collapsed": true,
    "ExecuteTime": {
     "end_time": "2024-11-13T13:01:18.938396Z",
     "start_time": "2024-11-13T13:01:15.098290Z"
    }
   },
   "cell_type": "code",
   "source": [
    "from dask.distributed import Client\n",
    "from dask_ml.linear_model import LogisticRegression\n",
    "from dask.array import from_array\n",
    "import numpy as np"
   ],
   "id": "initial_id",
   "outputs": [],
   "execution_count": 2
  },
  {
   "metadata": {
    "ExecuteTime": {
     "end_time": "2024-11-13T13:04:00.942307Z",
     "start_time": "2024-11-13T13:03:35.377044Z"
    }
   },
   "cell_type": "code",
   "source": [
    "client = Client()\n",
    "\n",
    "X = np.random.randn(1000000, 100)\n",
    "y = np.random.randint(0, 2, size=1000000)\n",
    "\n",
    "X_dask = from_array(X, chunks=(100000, 100))\n",
    "y_dask = from_array(y, chunks=(100000,))\n",
    "\n",
    "model = LogisticRegression(solver='lbfgs')\n",
    "\n",
    "model.fit(X_dask, y_dask)\n"
   ],
   "id": "849c288942e785fd",
   "outputs": [
    {
     "name": "stderr",
     "output_type": "stream",
     "text": [
      "C:\\Users\\dawid\\anaconda3\\Lib\\site-packages\\distributed\\node.py:182: UserWarning: Port 8787 is already in use.\n",
      "Perhaps you already have a cluster running?\n",
      "Hosting the HTTP server on port 57752 instead\n",
      "  warnings.warn(\n",
      "C:\\Users\\dawid\\anaconda3\\Lib\\contextlib.py:144: UserWarning: Creating scratch directories is taking a surprisingly long time. (2.83s) This is often due to running workers on a network file system. Consider specifying a local-directory to point workers to write scratch data to a local disk.\n",
      "  next(self.gen)\n",
      "C:\\Users\\dawid\\anaconda3\\Lib\\site-packages\\distributed\\client.py:3163: UserWarning: Sending large graph of size 762.94 MiB.\n",
      "This may cause some slowdown.\n",
      "Consider scattering data ahead of time and using futures.\n",
      "  warnings.warn(\n",
      "2024-11-13 14:03:57,697 - distributed.protocol.core - CRITICAL - Failed to deserialize\n",
      "Traceback (most recent call last):\n",
      "  File \"C:\\Users\\dawid\\anaconda3\\Lib\\site-packages\\distributed\\protocol\\core.py\", line 160, in loads\n",
      "    return msgpack.loads(\n",
      "           ^^^^^^^^^^^^^^\n",
      "  File \"C:\\Users\\dawid\\anaconda3\\Lib\\site-packages\\msgpack\\fallback.py\", line 128, in unpackb\n",
      "    ret = unpacker._unpack()\n",
      "          ^^^^^^^^^^^^^^^^^^\n",
      "  File \"C:\\Users\\dawid\\anaconda3\\Lib\\site-packages\\msgpack\\fallback.py\", line 565, in _unpack\n",
      "    ret.append(self._unpack(EX_CONSTRUCT))\n",
      "               ^^^^^^^^^^^^^^^^^^^^^^^^^^\n",
      "  File \"C:\\Users\\dawid\\anaconda3\\Lib\\site-packages\\msgpack\\fallback.py\", line 592, in _unpack\n",
      "    ret[key] = self._unpack(EX_CONSTRUCT)\n",
      "               ^^^^^^^^^^^^^^^^^^^^^^^^^^\n",
      "  File \"C:\\Users\\dawid\\anaconda3\\Lib\\site-packages\\msgpack\\fallback.py\", line 565, in _unpack\n",
      "    ret.append(self._unpack(EX_CONSTRUCT))\n",
      "               ^^^^^^^^^^^^^^^^^^^^^^^^^^\n",
      "  File \"C:\\Users\\dawid\\anaconda3\\Lib\\site-packages\\msgpack\\fallback.py\", line 602, in _unpack\n",
      "    obj = obj.decode(\"utf_8\", self._unicode_errors)\n",
      "          ^^^^^^^^^^^^^^^^^^^^^^^^^^^^^^^^^^^^^^^^^\n",
      "UnicodeDecodeError: 'utf-8' codec can't decode byte 0xc3 in position 2: invalid continuation byte\n",
      "2024-11-13 14:03:58,164 - distributed.core - ERROR - Exception while handling op register-client\n",
      "Traceback (most recent call last):\n",
      "  File \"C:\\Users\\dawid\\anaconda3\\Lib\\site-packages\\distributed\\core.py\", line 968, in _handle_comm\n",
      "    result = await result\n",
      "             ^^^^^^^^^^^^\n",
      "  File \"C:\\Users\\dawid\\anaconda3\\Lib\\site-packages\\distributed\\scheduler.py\", line 5532, in add_client\n",
      "    await self.handle_stream(comm=comm, extra={\"client\": client})\n",
      "  File \"C:\\Users\\dawid\\anaconda3\\Lib\\site-packages\\distributed\\core.py\", line 1023, in handle_stream\n",
      "    msgs = await comm.read()\n",
      "           ^^^^^^^^^^^^^^^^^\n",
      "  File \"C:\\Users\\dawid\\anaconda3\\Lib\\site-packages\\distributed\\comm\\tcp.py\", line 248, in read\n",
      "    msg = await from_frames(\n",
      "          ^^^^^^^^^^^^^^^^^^\n",
      "  File \"C:\\Users\\dawid\\anaconda3\\Lib\\site-packages\\distributed\\comm\\utils.py\", line 78, in from_frames\n",
      "    res = _from_frames()\n",
      "          ^^^^^^^^^^^^^^\n",
      "  File \"C:\\Users\\dawid\\anaconda3\\Lib\\site-packages\\distributed\\comm\\utils.py\", line 61, in _from_frames\n",
      "    return protocol.loads(\n",
      "           ^^^^^^^^^^^^^^^\n",
      "  File \"C:\\Users\\dawid\\anaconda3\\Lib\\site-packages\\distributed\\protocol\\core.py\", line 160, in loads\n",
      "    return msgpack.loads(\n",
      "           ^^^^^^^^^^^^^^\n",
      "  File \"C:\\Users\\dawid\\anaconda3\\Lib\\site-packages\\msgpack\\fallback.py\", line 128, in unpackb\n",
      "    ret = unpacker._unpack()\n",
      "          ^^^^^^^^^^^^^^^^^^\n",
      "  File \"C:\\Users\\dawid\\anaconda3\\Lib\\site-packages\\msgpack\\fallback.py\", line 565, in _unpack\n",
      "    ret.append(self._unpack(EX_CONSTRUCT))\n",
      "               ^^^^^^^^^^^^^^^^^^^^^^^^^^\n",
      "  File \"C:\\Users\\dawid\\anaconda3\\Lib\\site-packages\\msgpack\\fallback.py\", line 592, in _unpack\n",
      "    ret[key] = self._unpack(EX_CONSTRUCT)\n",
      "               ^^^^^^^^^^^^^^^^^^^^^^^^^^\n",
      "  File \"C:\\Users\\dawid\\anaconda3\\Lib\\site-packages\\msgpack\\fallback.py\", line 565, in _unpack\n",
      "    ret.append(self._unpack(EX_CONSTRUCT))\n",
      "               ^^^^^^^^^^^^^^^^^^^^^^^^^^\n",
      "  File \"C:\\Users\\dawid\\anaconda3\\Lib\\site-packages\\msgpack\\fallback.py\", line 602, in _unpack\n",
      "    obj = obj.decode(\"utf_8\", self._unicode_errors)\n",
      "          ^^^^^^^^^^^^^^^^^^^^^^^^^^^^^^^^^^^^^^^^^\n",
      "UnicodeDecodeError: 'utf-8' codec can't decode byte 0xc3 in position 2: invalid continuation byte\n",
      "Task exception was never retrieved\n",
      "future: <Task finished name='Task-61907' coro=<Server._handle_comm() done, defined at C:\\Users\\dawid\\anaconda3\\Lib\\site-packages\\distributed\\core.py:874> exception=UnicodeDecodeError('utf-8', b'T8\\xc3\\xfc!\\xff', 2, 3, 'invalid continuation byte')>\n",
      "Traceback (most recent call last):\n",
      "  File \"C:\\Users\\dawid\\anaconda3\\Lib\\site-packages\\distributed\\core.py\", line 968, in _handle_comm\n",
      "    result = await result\n",
      "             ^^^^^^^^^^^^\n",
      "  File \"C:\\Users\\dawid\\anaconda3\\Lib\\site-packages\\distributed\\scheduler.py\", line 5532, in add_client\n",
      "    await self.handle_stream(comm=comm, extra={\"client\": client})\n",
      "  File \"C:\\Users\\dawid\\anaconda3\\Lib\\site-packages\\distributed\\core.py\", line 1023, in handle_stream\n",
      "    msgs = await comm.read()\n",
      "           ^^^^^^^^^^^^^^^^^\n",
      "  File \"C:\\Users\\dawid\\anaconda3\\Lib\\site-packages\\distributed\\comm\\tcp.py\", line 248, in read\n",
      "    msg = await from_frames(\n",
      "          ^^^^^^^^^^^^^^^^^^\n",
      "  File \"C:\\Users\\dawid\\anaconda3\\Lib\\site-packages\\distributed\\comm\\utils.py\", line 78, in from_frames\n",
      "    res = _from_frames()\n",
      "          ^^^^^^^^^^^^^^\n",
      "  File \"C:\\Users\\dawid\\anaconda3\\Lib\\site-packages\\distributed\\comm\\utils.py\", line 61, in _from_frames\n",
      "    return protocol.loads(\n",
      "           ^^^^^^^^^^^^^^^\n",
      "  File \"C:\\Users\\dawid\\anaconda3\\Lib\\site-packages\\distributed\\protocol\\core.py\", line 160, in loads\n",
      "    return msgpack.loads(\n",
      "           ^^^^^^^^^^^^^^\n",
      "  File \"C:\\Users\\dawid\\anaconda3\\Lib\\site-packages\\msgpack\\fallback.py\", line 128, in unpackb\n",
      "    ret = unpacker._unpack()\n",
      "          ^^^^^^^^^^^^^^^^^^\n",
      "  File \"C:\\Users\\dawid\\anaconda3\\Lib\\site-packages\\msgpack\\fallback.py\", line 565, in _unpack\n",
      "    ret.append(self._unpack(EX_CONSTRUCT))\n",
      "               ^^^^^^^^^^^^^^^^^^^^^^^^^^\n",
      "  File \"C:\\Users\\dawid\\anaconda3\\Lib\\site-packages\\msgpack\\fallback.py\", line 592, in _unpack\n",
      "    ret[key] = self._unpack(EX_CONSTRUCT)\n",
      "               ^^^^^^^^^^^^^^^^^^^^^^^^^^\n",
      "  File \"C:\\Users\\dawid\\anaconda3\\Lib\\site-packages\\msgpack\\fallback.py\", line 565, in _unpack\n",
      "    ret.append(self._unpack(EX_CONSTRUCT))\n",
      "               ^^^^^^^^^^^^^^^^^^^^^^^^^^\n",
      "  File \"C:\\Users\\dawid\\anaconda3\\Lib\\site-packages\\msgpack\\fallback.py\", line 602, in _unpack\n",
      "    obj = obj.decode(\"utf_8\", self._unicode_errors)\n",
      "          ^^^^^^^^^^^^^^^^^^^^^^^^^^^^^^^^^^^^^^^^^\n",
      "UnicodeDecodeError: 'utf-8' codec can't decode byte 0xc3 in position 2: invalid continuation byte\n"
     ]
    },
    {
     "ename": "CancelledError",
     "evalue": "('_sqrt-f1c1b50c129e2d49fb2043ddf51903ed', 0)",
     "output_type": "error",
     "traceback": [
      "\u001B[1;31m---------------------------------------------------------------------------\u001B[0m",
      "\u001B[1;31mCancelledError\u001B[0m                            Traceback (most recent call last)",
      "Cell \u001B[1;32mIn[5], line 11\u001B[0m\n\u001B[0;32m      7\u001B[0m y_dask \u001B[38;5;241m=\u001B[39m from_array(y, chunks\u001B[38;5;241m=\u001B[39m(\u001B[38;5;241m100000\u001B[39m,))\n\u001B[0;32m      9\u001B[0m model \u001B[38;5;241m=\u001B[39m LogisticRegression(solver\u001B[38;5;241m=\u001B[39m\u001B[38;5;124m'\u001B[39m\u001B[38;5;124mlbfgs\u001B[39m\u001B[38;5;124m'\u001B[39m)\n\u001B[1;32m---> 11\u001B[0m model\u001B[38;5;241m.\u001B[39mfit(X_dask, y_dask)\n",
      "File \u001B[1;32m~\\anaconda3\\Lib\\site-packages\\dask_ml\\linear_model\\glm.py:189\u001B[0m, in \u001B[0;36m_GLM.fit\u001B[1;34m(self, X, y)\u001B[0m\n\u001B[0;32m    185\u001B[0m X \u001B[38;5;241m=\u001B[39m \u001B[38;5;28mself\u001B[39m\u001B[38;5;241m.\u001B[39m_check_array(X)\n\u001B[0;32m    187\u001B[0m solver_kwargs \u001B[38;5;241m=\u001B[39m \u001B[38;5;28mself\u001B[39m\u001B[38;5;241m.\u001B[39m_get_solver_kwargs()\n\u001B[1;32m--> 189\u001B[0m \u001B[38;5;28mself\u001B[39m\u001B[38;5;241m.\u001B[39m_coef \u001B[38;5;241m=\u001B[39m algorithms\u001B[38;5;241m.\u001B[39m_solvers[\u001B[38;5;28mself\u001B[39m\u001B[38;5;241m.\u001B[39msolver](X, y, \u001B[38;5;241m*\u001B[39m\u001B[38;5;241m*\u001B[39msolver_kwargs)\n\u001B[0;32m    190\u001B[0m \u001B[38;5;28;01mif\u001B[39;00m \u001B[38;5;28mself\u001B[39m\u001B[38;5;241m.\u001B[39mfit_intercept:\n\u001B[0;32m    191\u001B[0m     \u001B[38;5;28mself\u001B[39m\u001B[38;5;241m.\u001B[39mcoef_ \u001B[38;5;241m=\u001B[39m \u001B[38;5;28mself\u001B[39m\u001B[38;5;241m.\u001B[39m_coef[:\u001B[38;5;241m-\u001B[39m\u001B[38;5;241m1\u001B[39m]\n",
      "File \u001B[1;32m~\\anaconda3\\Lib\\site-packages\\dask_glm\\utils.py:19\u001B[0m, in \u001B[0;36mnormalize.<locals>.normalize_inputs\u001B[1;34m(X, y, *args, **kwargs)\u001B[0m\n\u001B[0;32m     17\u001B[0m normalize \u001B[38;5;241m=\u001B[39m kwargs\u001B[38;5;241m.\u001B[39mpop(\u001B[38;5;124m\"\u001B[39m\u001B[38;5;124mnormalize\u001B[39m\u001B[38;5;124m\"\u001B[39m, \u001B[38;5;28;01mTrue\u001B[39;00m)\n\u001B[0;32m     18\u001B[0m \u001B[38;5;28;01mif\u001B[39;00m normalize:\n\u001B[1;32m---> 19\u001B[0m     mean, std \u001B[38;5;241m=\u001B[39m da\u001B[38;5;241m.\u001B[39mcompute(X\u001B[38;5;241m.\u001B[39mmean(axis\u001B[38;5;241m=\u001B[39m\u001B[38;5;241m0\u001B[39m), X\u001B[38;5;241m.\u001B[39mstd(axis\u001B[38;5;241m=\u001B[39m\u001B[38;5;241m0\u001B[39m))\n\u001B[0;32m     20\u001B[0m     mean, std \u001B[38;5;241m=\u001B[39m mean\u001B[38;5;241m.\u001B[39mcopy(), std\u001B[38;5;241m.\u001B[39mcopy()  \u001B[38;5;66;03m# in case they are read-only\u001B[39;00m\n\u001B[0;32m     21\u001B[0m     intercept_idx \u001B[38;5;241m=\u001B[39m np\u001B[38;5;241m.\u001B[39mwhere(std \u001B[38;5;241m==\u001B[39m \u001B[38;5;241m0\u001B[39m)\n",
      "File \u001B[1;32m~\\anaconda3\\Lib\\site-packages\\dask\\base.py:628\u001B[0m, in \u001B[0;36mcompute\u001B[1;34m(traverse, optimize_graph, scheduler, get, *args, **kwargs)\u001B[0m\n\u001B[0;32m    625\u001B[0m     postcomputes\u001B[38;5;241m.\u001B[39mappend(x\u001B[38;5;241m.\u001B[39m__dask_postcompute__())\n\u001B[0;32m    627\u001B[0m \u001B[38;5;28;01mwith\u001B[39;00m shorten_traceback():\n\u001B[1;32m--> 628\u001B[0m     results \u001B[38;5;241m=\u001B[39m schedule(dsk, keys, \u001B[38;5;241m*\u001B[39m\u001B[38;5;241m*\u001B[39mkwargs)\n\u001B[0;32m    630\u001B[0m \u001B[38;5;28;01mreturn\u001B[39;00m repack([f(r, \u001B[38;5;241m*\u001B[39ma) \u001B[38;5;28;01mfor\u001B[39;00m r, (f, a) \u001B[38;5;129;01min\u001B[39;00m \u001B[38;5;28mzip\u001B[39m(results, postcomputes)])\n",
      "File \u001B[1;32m~\\anaconda3\\Lib\\site-packages\\distributed\\client.py:2245\u001B[0m, in \u001B[0;36mClient._gather\u001B[1;34m(self, futures, errors, direct, local_worker)\u001B[0m\n\u001B[0;32m   2243\u001B[0m     \u001B[38;5;28;01melse\u001B[39;00m:\n\u001B[0;32m   2244\u001B[0m         \u001B[38;5;28;01mraise\u001B[39;00m exception\u001B[38;5;241m.\u001B[39mwith_traceback(traceback)\n\u001B[1;32m-> 2245\u001B[0m     \u001B[38;5;28;01mraise\u001B[39;00m exc\n\u001B[0;32m   2246\u001B[0m \u001B[38;5;28;01mif\u001B[39;00m errors \u001B[38;5;241m==\u001B[39m \u001B[38;5;124m\"\u001B[39m\u001B[38;5;124mskip\u001B[39m\u001B[38;5;124m\"\u001B[39m:\n\u001B[0;32m   2247\u001B[0m     bad_keys\u001B[38;5;241m.\u001B[39madd(key)\n",
      "\u001B[1;31mCancelledError\u001B[0m: ('_sqrt-f1c1b50c129e2d49fb2043ddf51903ed', 0)"
     ]
    }
   ],
   "execution_count": 5
  },
  {
   "metadata": {},
   "cell_type": "code",
   "outputs": [],
   "execution_count": null,
   "source": "",
   "id": "8f6cf9aa15e1a2b6"
  }
 ],
 "metadata": {
  "kernelspec": {
   "display_name": "Python 3",
   "language": "python",
   "name": "python3"
  },
  "language_info": {
   "codemirror_mode": {
    "name": "ipython",
    "version": 2
   },
   "file_extension": ".py",
   "mimetype": "text/x-python",
   "name": "python",
   "nbconvert_exporter": "python",
   "pygments_lexer": "ipython2",
   "version": "2.7.6"
  }
 },
 "nbformat": 4,
 "nbformat_minor": 5
}
